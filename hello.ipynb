{
 "cells": [
  {
   "cell_type": "code",
   "execution_count": 14,
   "metadata": {},
   "outputs": [
    {
     "name": "stdout",
     "output_type": "stream",
     "text": [
      "Length of the first word: 6\n",
      "First word: SKJDKD\n",
      "Length of the Second word: 1\n",
      "Second word: 1\n",
      "Both words cannot be linked.\n"
     ]
    }
   ],
   "source": [
    "# Problem 1\n",
    "def find_linking_subword(word1, word2):\n",
    "    length_word1 = len(word1)\n",
    "    length_word2 = len(word2)\n",
    "    \n",
    "    print(f\"Length of the first word: {length_word1}\")\n",
    "    print(f\"First word: {word1}\")\n",
    "    print(f\"Length of the Second word: {length_word2}\")\n",
    "    print(f\"Second word: {word2}\")\n",
    "\n",
    "    min_len = min(length_word1, length_word2)\n",
    "\n",
    "    linking_subword = ''\n",
    "    for i in range(1, min_len + 1):\n",
    "        if word1[-i:] == word2[:i]:\n",
    "            linking_subword = word1[-i:]\n",
    "    return linking_subword\n",
    "\n",
    "def word_linking_game():\n",
    "    word1 = input(\"Enter the first word: \")\n",
    "    \n",
    "\n",
    "    word2 = input(\"Enter the second word: \")\n",
    "    \n",
    "\n",
    "    linking_subword = find_linking_subword(word1, word2)\n",
    "\n",
    "    if linking_subword:\n",
    "        print(f\"Both words can be linked with the subword '{linking_subword}'.\")\n",
    "    else:\n",
    "        print(\"Both words cannot be linked.\")\n",
    "\n",
    "word_linking_game()"
   ]
  },
  {
   "cell_type": "code",
   "execution_count": 67,
   "metadata": {},
   "outputs": [
    {
     "name": "stdout",
     "output_type": "stream",
     "text": [
      "The smallest beautiful number of 13 is 111111\n"
     ]
    }
   ],
   "source": [
    "# Problem 2\n",
    "def is_beautiful(num):\n",
    "    num_str = str(num)\n",
    "    return len(set(num_str)) == 1 and num_str[0] != '0'\n",
    "\n",
    "def smallest_beautiful_num(x):\n",
    "    i = 1\n",
    "    while True:\n",
    "        if is_beautiful(i) and i % x == 0:\n",
    "            return i\n",
    "        i += 1\n",
    "\n",
    "x = int(input(\"Enter a number x: \"))\n",
    "\n",
    "result = smallest_beautiful_num(x)\n",
    "print(\"The smallest beautiful number of\", x, \"is\", result)"
   ]
  }
 ],
 "metadata": {
  "kernelspec": {
   "display_name": "Python 3",
   "language": "python",
   "name": "python3"
  },
  "language_info": {
   "codemirror_mode": {
    "name": "ipython",
    "version": 3
   },
   "file_extension": ".py",
   "mimetype": "text/x-python",
   "name": "python",
   "nbconvert_exporter": "python",
   "pygments_lexer": "ipython3",
   "version": "3.11.5"
  }
 },
 "nbformat": 4,
 "nbformat_minor": 2
}
